{
 "cells": [
  {
   "cell_type": "code",
   "execution_count": 1,
   "metadata": {},
   "outputs": [],
   "source": [
    "# num = 234\n",
    "\n",
    "dic = {'1':[''],'2':['a','b','c'],'3':['d','e','f'],'4':['g','h','i'],'5':['g','k','l'],'6':['m','n','o'],\n",
    "       '7':['p','q','r','s'],'8':['t','u','v'],'9':['w','x','y','z']}\n"
   ]
  },
  {
   "cell_type": "code",
   "execution_count": 4,
   "metadata": {},
   "outputs": [
    {
     "name": "stdout",
     "output_type": "stream",
     "text": [
      "None\n"
     ]
    }
   ],
   "source": [
    "\n",
    "#backtrack\n",
    "\n",
    "def backtrack(combination,next_digits):\n",
    "    \n",
    "    if len(next_digits)==0:\n",
    "#         import pdb; pdb.set_trace()\n",
    "        out.append(combination)\n",
    "    else:\n",
    "        \n",
    "        for letter in dic[next_digits[0]]:\n",
    "            \n",
    "            backtrack(combination + letter, next_digits[1:])\n",
    "            \n",
    "#     return out\n",
    "\n",
    "\n",
    "out = []\n",
    "digits = 23\n",
    "temp_digits = str(digits)\n",
    "\n",
    "# if digits:\n",
    "out = backtrack('',temp_digits)\n",
    "# return out\n",
    "            \n",
    "print(out)"
   ]
  },
  {
   "cell_type": "code",
   "execution_count": null,
   "metadata": {},
   "outputs": [],
   "source": []
  }
 ],
 "metadata": {
  "kernelspec": {
   "display_name": "Python 3",
   "language": "python",
   "name": "python3"
  },
  "language_info": {
   "codemirror_mode": {
    "name": "ipython",
    "version": 3
   },
   "file_extension": ".py",
   "mimetype": "text/x-python",
   "name": "python",
   "nbconvert_exporter": "python",
   "pygments_lexer": "ipython3",
   "version": "3.7.3"
  }
 },
 "nbformat": 4,
 "nbformat_minor": 2
}
