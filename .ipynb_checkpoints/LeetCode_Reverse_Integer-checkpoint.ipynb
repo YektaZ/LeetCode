{
 "cells": [
  {
   "cell_type": "code",
   "execution_count": 32,
   "metadata": {},
   "outputs": [
    {
     "name": "stdout",
     "output_type": "stream",
     "text": [
      "-761\n"
     ]
    }
   ],
   "source": [
    "x = -1670\n",
    "\n",
    "temp = str(abs(x))[::-1]\n",
    "out = int(temp)\n",
    "\n",
    "if x<0:\n",
    "    out = -out\n",
    "\n",
    "if x<(-2**31) or x>(2**31-1):\n",
    "    out = 0\n",
    "\n",
    "print(out)"
   ]
  }
 ],
 "metadata": {
  "kernelspec": {
   "display_name": "Python 3",
   "language": "python",
   "name": "python3"
  },
  "language_info": {
   "codemirror_mode": {
    "name": "ipython",
    "version": 3
   },
   "file_extension": ".py",
   "mimetype": "text/x-python",
   "name": "python",
   "nbconvert_exporter": "python",
   "pygments_lexer": "ipython3",
   "version": "3.7.3"
  }
 },
 "nbformat": 4,
 "nbformat_minor": 2
}
