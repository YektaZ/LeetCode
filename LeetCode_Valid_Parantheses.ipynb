{
 "cells": [
  {
   "cell_type": "code",
   "execution_count": 34,
   "metadata": {},
   "outputs": [
    {
     "name": "stdout",
     "output_type": "stream",
     "text": [
      "[7, 8, 12, 14]\n",
      "['(', ')', '(', '}']\n",
      "[0, 1, 0, 5]\n",
      "True\n"
     ]
    }
   ],
   "source": [
    "s = 'abcd i () e ( }'\n",
    "\n",
    "# dic = [['(',')'], ['[',']'], ['{','}']]\n",
    "dic = ['(',')', '[',']', '{','}']\n",
    "\n",
    "out = True\n",
    "\n",
    "id_elements = [i for i in range(len(s)) if s[i] in dic]\n",
    "\n",
    "n = len(id_elements)\n",
    "\n",
    "if n%2==1:\n",
    "    out = False\n",
    "else:\n",
    "    elements = [s[id_elements[i]] for i in range(n)]\n",
    "    \n",
    "    dic_elements = [dic.index(elements[j]) for j in range(n)]\n",
    "    \n",
    "    for i in dic_elements:\n",
    "        temp = dic_elements[i]\n",
    "        if temp%2==1:\n",
    "            out = False\n",
    "        else:\n",
    "            \n",
    "       \n",
    "\n",
    "\n",
    "print(id_elements)        \n",
    "print(elements)\n",
    "print(dic_elements)\n",
    "print(out)\n"
   ]
  },
  {
   "cell_type": "code",
   "execution_count": 71,
   "metadata": {},
   "outputs": [
    {
     "name": "stdout",
     "output_type": "stream",
     "text": [
      "False\n"
     ]
    }
   ],
   "source": [
    "# s = 'abcd i {()} e {(()) }'\n",
    "# s = '([)]'\n",
    "# s = ''\n",
    "s = \"([]\"\n",
    "s = '((()'\n",
    "\n",
    "dic_left = ['(', '[', '{']\n",
    "dic_right = [')', ']', '}']\n",
    "\n",
    "Temp_memory = []\n",
    "\n",
    "out = False\n",
    "\n",
    "if len(s)<1:\n",
    "    out = True\n",
    "\n",
    "for i in s:     \n",
    "    if i in dic_left: # add the lefties\n",
    "        Temp_memory.append(i)\n",
    "    elif len(Temp_memory)<1: #starts with a right\n",
    "        out = False\n",
    "        break\n",
    "    elif i in dic_right: # check if the righty matches the last lefty\n",
    "        out = True #set to default\n",
    "        id1 = dic_left.index(Temp_memory[-1])\n",
    "        id2 = dic_right.index(i)\n",
    "\n",
    "        if id1==id2: # if they match, cross it out\n",
    "            Temp_memory.pop(-1)\n",
    "        else: # if not, fails\n",
    "            out = False\n",
    "            break\n",
    "if len(Temp_memory)>=1:\n",
    "    out = False\n",
    "\n",
    "print(out)\n"
   ]
  }
 ],
 "metadata": {
  "kernelspec": {
   "display_name": "Python 3",
   "language": "python",
   "name": "python3"
  },
  "language_info": {
   "codemirror_mode": {
    "name": "ipython",
    "version": 3
   },
   "file_extension": ".py",
   "mimetype": "text/x-python",
   "name": "python",
   "nbconvert_exporter": "python",
   "pygments_lexer": "ipython3",
   "version": "3.6.5"
  }
 },
 "nbformat": 4,
 "nbformat_minor": 2
}
