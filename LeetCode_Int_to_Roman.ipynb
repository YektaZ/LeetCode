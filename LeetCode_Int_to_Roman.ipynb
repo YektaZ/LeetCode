{
 "cells": [
  {
   "cell_type": "markdown",
   "metadata": {},
   "source": [
    "## Intiger to Roman \n",
    "\n",
    "Given an integer, convert it to a roman numeral. Input is guaranteed to be within the range from 1 to 3999."
   ]
  },
  {
   "cell_type": "code",
   "execution_count": 2,
   "metadata": {},
   "outputs": [
    {
     "name": "stdout",
     "output_type": "stream",
     "text": [
      "\n",
      "\n",
      "CDXCII\n"
     ]
    }
   ],
   "source": [
    "num = 492\n",
    "\n",
    "exception_list = [4,9, 40, 90, 400, 900]\n",
    "exception_list_replacement = ['IV','IX','XL','XC','CD','CM']\n",
    "\n",
    "digits = [int(i) for i in str(num)]\n",
    "\n",
    "roman_digits = ['M', 'D', 'C', 'L', 'X', 'V', 'I']\n",
    "\n",
    "out = ''\n",
    "cnt = 0\n",
    "\n",
    "for ex in range(len(digits)-1,-1, -1):\n",
    "    value = digits[ex]*10**cnt\n",
    "#     print(value)\n",
    "    if digits[ex] in [4,9]:\n",
    "\n",
    "        id2 = exception_list.index(value)\n",
    "        out = exception_list_replacement[id2] + out\n",
    "    else:\n",
    "        temp = value//1000*'M'+ (value%1000)//500*'D'+ ((value%1000)%500)//100*'C'+ (((value%1000)%500)%100)//50*'L'+ \\\n",
    "        ((((value%1000)%500)%100)%50)//10*'X'+ (((((value%1000)%500)%100)%50)%10)//5*'V'+ ((((((value%1000)%500)%100)%50)%10)%5)*'I'\n",
    "#         print(temp)\n",
    "        out = temp + out\n",
    "    \n",
    "    cnt +=1\n",
    "        \n",
    "\n",
    "print('\\n')\n",
    "print(out)  "
   ]
  },
  {
   "cell_type": "code",
   "execution_count": null,
   "metadata": {},
   "outputs": [],
   "source": []
  }
 ],
 "metadata": {
  "kernelspec": {
   "display_name": "Python 3",
   "language": "python",
   "name": "python3"
  },
  "language_info": {
   "codemirror_mode": {
    "name": "ipython",
    "version": 3
   },
   "file_extension": ".py",
   "mimetype": "text/x-python",
   "name": "python",
   "nbconvert_exporter": "python",
   "pygments_lexer": "ipython3",
   "version": "3.7.3"
  }
 },
 "nbformat": 4,
 "nbformat_minor": 2
}
