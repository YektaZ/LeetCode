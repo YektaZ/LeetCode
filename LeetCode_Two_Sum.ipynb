{
 "cells": [
  {
   "cell_type": "code",
   "execution_count": null,
   "metadata": {},
   "outputs": [],
   "source": [
    "import numpy as np\n",
    "\n",
    "# a = np.array([1, 2, 3,6])\n",
    "a = [1, 2, 3,6]\n",
    "target = 5\n",
    "out = []\n",
    "# s = np.array(a)+3\n",
    "# print(s)\n",
    "\n",
    "# id = np.where(s==2)\n",
    "\n",
    "# print(id[0][0])"
   ]
  },
  {
   "cell_type": "code",
   "execution_count": null,
   "metadata": {},
   "outputs": [],
   "source": [
    "a = np.array(a)\n",
    "out = []\n",
    "\n",
    "for i in range(len(a)):\n",
    "    s = a + a[i]\n",
    "    id = np.where(s==target)\n",
    "    id = id[0]\n",
    "#     print(id.size)\n",
    "    \n",
    "    if id.size>0:\n",
    "        out.append(id[0])\n",
    "#         print(out)\n",
    "print(out[::-1])"
   ]
  },
  {
   "cell_type": "code",
   "execution_count": 114,
   "metadata": {},
   "outputs": [
    {
     "name": "stdout",
     "output_type": "stream",
     "text": [
      "[0, 1]\n"
     ]
    }
   ],
   "source": [
    "# a = [3,2,4]\n",
    "# target = 6\n",
    "\n",
    "a = [3,3]\n",
    "target = 6\n",
    "\n",
    "out = []\n",
    "\n",
    "for i in range(len(a)):\n",
    "    for j in range(len(a)):\n",
    "        b = [a[i] + a[j]]\n",
    "        if target in b and i!=j:\n",
    "            out.append(i)\n",
    "    \n",
    "print(out)"
   ]
  },
  {
   "cell_type": "code",
   "execution_count": 78,
   "metadata": {},
   "outputs": [
    {
     "name": "stdout",
     "output_type": "stream",
     "text": [
      "[1, 2]\n"
     ]
    }
   ],
   "source": [
    "# for i, j in zip(range(4),range(5)):\n",
    "#     print(i,j)\n",
    "\n",
    "a = [3,2,4]\n",
    "target = 6\n",
    "\n",
    "out = []\n",
    "\n",
    "for i in range(len(a)):\n",
    "    b = [a[i] + a[j] for j in range(len(a)) if i!=j]\n",
    "    if target in b:\n",
    "        out.append(i)\n",
    "        \n",
    "print(out)"
   ]
  },
  {
   "cell_type": "code",
   "execution_count": 103,
   "metadata": {},
   "outputs": [
    {
     "name": "stdout",
     "output_type": "stream",
     "text": [
      "[0, 1]\n"
     ]
    }
   ],
   "source": [
    "a = [2, 7, 11, 15]\n",
    "target = 9\n",
    "\n",
    "b = [(a[i]+a[j],i) for i in range(len(a)) for j in range(len(a)) if i!=j]\n",
    "        \n",
    "out = [b[i][1] for i in range(len(b)) if b[i][0]==target]\n",
    "\n",
    "print(out)"
   ]
  },
  {
   "cell_type": "code",
   "execution_count": 131,
   "metadata": {},
   "outputs": [
    {
     "name": "stdout",
     "output_type": "stream",
     "text": [
      "[0, 1]\n"
     ]
    }
   ],
   "source": [
    "# out = [a.index(diff[i]) for i in range(len(diff)) if diff[i] in a and i!= a.index(diff[i])]\n",
    "\n",
    "a = [2, 7, 11, 15]\n",
    "target = 9\n",
    "\n",
    "# a = [3,2,4]\n",
    "# target = 6\n",
    "\n",
    "# a = [3,3]\n",
    "# target = 6\n",
    "\n",
    "out = []\n",
    "\n",
    "for i in range(len(a)):\n",
    "    diff = target-a[i]\n",
    "    for j in range(len(a)):\n",
    "        if diff == a[j] and i!=j:\n",
    "            out.append(i)\n",
    "print(out)\n"
   ]
  }
 ],
 "metadata": {
  "kernelspec": {
   "display_name": "Python 3",
   "language": "python",
   "name": "python3"
  },
  "language_info": {
   "codemirror_mode": {
    "name": "ipython",
    "version": 3
   },
   "file_extension": ".py",
   "mimetype": "text/x-python",
   "name": "python",
   "nbconvert_exporter": "python",
   "pygments_lexer": "ipython3",
   "version": "3.6.5"
  }
 },
 "nbformat": 4,
 "nbformat_minor": 2
}
